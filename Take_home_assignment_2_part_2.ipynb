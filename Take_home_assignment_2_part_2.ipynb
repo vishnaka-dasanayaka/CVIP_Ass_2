{
  "nbformat": 4,
  "nbformat_minor": 0,
  "metadata": {
    "colab": {
      "provenance": [],
      "authorship_tag": "ABX9TyMZcFcPIxIcCElQ7UJHjZn+",
      "include_colab_link": true
    },
    "kernelspec": {
      "name": "python3",
      "display_name": "Python 3"
    },
    "language_info": {
      "name": "python"
    }
  },
  "cells": [
    {
      "cell_type": "markdown",
      "metadata": {
        "id": "view-in-github",
        "colab_type": "text"
      },
      "source": [
        "<a href=\"https://colab.research.google.com/github/vishnaka-dasanayaka/CVIP_Ass_2/blob/main/Take_home_assignment_2_part_2.ipynb\" target=\"_parent\"><img src=\"https://colab.research.google.com/assets/colab-badge.svg\" alt=\"Open In Colab\"/></a>"
      ]
    },
    {
      "cell_type": "code",
      "execution_count": 18,
      "metadata": {
        "id": "QG9qxWatQF3K"
      },
      "outputs": [],
      "source": [
        "import numpy as np\n",
        "import cv2\n",
        "import matplotlib.pyplot as plt\n"
      ]
    },
    {
      "cell_type": "code",
      "source": [
        "def region_growing(image, seeds, threshold):\n",
        "    rows, cols = image.shape\n",
        "    segmented = np.zeros_like(image)\n",
        "    for seed in seeds:\n",
        "        stack = [seed]\n",
        "        while stack:\n",
        "            current_pixel = stack.pop()\n",
        "            row, col = current_pixel\n",
        "            if segmented[row, col] == 0 and abs(image[row, col] - image[seed]) <= threshold:\n",
        "                segmented[row, col] = 255\n",
        "                if row + 1 < rows:\n",
        "                    stack.append((row + 1, col))\n",
        "                if row - 1 >= 0:\n",
        "                    stack.append((row - 1, col))\n",
        "                if col + 1 < cols:\n",
        "                    stack.append((row, col + 1))\n",
        "                if col - 1 >= 0:\n",
        "                    stack.append((row, col - 1))\n",
        "    return segmented"
      ],
      "metadata": {
        "id": "6yYYmw3kQNTp"
      },
      "execution_count": 19,
      "outputs": []
    },
    {
      "cell_type": "code",
      "source": [
        "# Generate synthetic image with 2 objects\n",
        "image = np.zeros((100, 100), dtype=np.uint8)\n",
        "image[20:40, 20:40] = 100\n",
        "image[60:80, 60:80] = 200\n"
      ],
      "metadata": {
        "id": "nQ_4ptPeQPsE"
      },
      "execution_count": 20,
      "outputs": []
    },
    {
      "cell_type": "code",
      "source": [
        "# Define seeds inside the objects\n",
        "seeds = [(25, 25), (70, 70)]"
      ],
      "metadata": {
        "id": "3F1PjrzCQWLm"
      },
      "execution_count": 21,
      "outputs": []
    },
    {
      "cell_type": "code",
      "source": [
        "# Apply region growing segmentation\n",
        "segmented_image = region_growing(image, seeds, threshold=65)"
      ],
      "metadata": {
        "colab": {
          "base_uri": "https://localhost:8080/"
        },
        "id": "mr72fUvRQW2c",
        "outputId": "2e0347dc-9113-492d-a4ce-a4ccdfccf292"
      },
      "execution_count": 22,
      "outputs": [
        {
          "output_type": "stream",
          "name": "stderr",
          "text": [
            "<ipython-input-19-76b50078ff81>:9: RuntimeWarning: overflow encountered in scalar subtract\n",
            "  if segmented[row, col] == 0 and abs(image[row, col] - image[seed]) <= threshold:\n"
          ]
        }
      ]
    },
    {
      "cell_type": "code",
      "source": [
        "# Display results using Matplotlib\n",
        "plt.figure(figsize=(10, 5))\n",
        "plt.subplot(121)\n",
        "plt.imshow(image, cmap='gray')\n",
        "plt.title('Original Image')\n",
        "plt.axis('off')\n",
        "\n",
        "plt.subplot(122)\n",
        "plt.imshow(segmented_image, cmap='gray')\n",
        "plt.title('Segmented Image')\n",
        "plt.axis('off')\n",
        "\n",
        "plt.show()"
      ],
      "metadata": {
        "colab": {
          "base_uri": "https://localhost:8080/",
          "height": 411
        },
        "id": "gFFj6C8sQY5V",
        "outputId": "255853ee-7079-4a91-810f-ce0b35a5d468"
      },
      "execution_count": 23,
      "outputs": [
        {
          "output_type": "display_data",
          "data": {
            "text/plain": [
              "<Figure size 1000x500 with 2 Axes>"
            ],
            "image/png": "[encoded data removed]"
          },
          "metadata": {}
        }
      ]
    }
  ]
}